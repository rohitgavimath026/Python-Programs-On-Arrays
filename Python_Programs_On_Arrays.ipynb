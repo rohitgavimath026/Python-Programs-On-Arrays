{
  "nbformat": 4,
  "nbformat_minor": 0,
  "metadata": {
    "colab": {
      "name": "Python Programs On Arrays.ipynb",
      "provenance": [],
      "collapsed_sections": []
    },
    "kernelspec": {
      "name": "python3",
      "display_name": "Python 3"
    },
    "language_info": {
      "name": "python"
    }
  },
  "cells": [
    {
      "cell_type": "markdown",
      "metadata": {
        "id": "QNJHR66WwBWY"
      },
      "source": [
        "# **1. Monotonic or not**"
      ]
    },
    {
      "cell_type": "code",
      "metadata": {
        "id": "2Cot8sII19Hh",
        "colab": {
          "base_uri": "https://localhost:8080/"
        },
        "outputId": "c38d2761-2333-46de-d4c4-2215925bd63e"
      },
      "source": [
        "# MONOTONIC :- Elements in array are in the order of decreasing or increasing.\n",
        "\n",
        "def isMonotonic(arr):\n",
        "  return (all(arr[i]>=arr[i+1] for i in range(len(arr)-1)) or all(arr[i]<=arr[i+1] for i in range(len(arr)-1)))\n",
        "arr = [6,7,8,9,10]\n",
        "print(isMonotonic(arr))"
      ],
      "execution_count": null,
      "outputs": [
        {
          "output_type": "stream",
          "name": "stdout",
          "text": [
            "True\n"
          ]
        }
      ]
    },
    {
      "cell_type": "markdown",
      "metadata": {
        "id": "PMMU3vchxUR-"
      },
      "source": [
        "# **2. Array Rotation**"
      ]
    },
    {
      "cell_type": "code",
      "metadata": {
        "colab": {
          "base_uri": "https://localhost:8080/"
        },
        "id": "9lxH9823xTCG",
        "outputId": "afcaba7e-c3af-4f5e-9805-6efd60a4ffb9"
      },
      "source": [
        "# Using Slicing Approach\n",
        "'''n-> Size of array\n",
        "   d-> No. of times the array should be rotated'''\n",
        "\n",
        "def rotation(arr,n,d):\n",
        "  arr[:] = arr[d:n] + arr[0:d]    # No.s from 5 to 10 print 1st & concatenate from 0 to 4 i.e., d = 4 \n",
        "  return arr\n",
        "arr = [1,2,3,4,5,6,7,8,9,10] \n",
        "n = len(arr)\n",
        "d = 4\n",
        "print(\"Rotated List :\")\n",
        "print(rotation(arr,n,d))"
      ],
      "execution_count": null,
      "outputs": [
        {
          "output_type": "stream",
          "name": "stdout",
          "text": [
            "Rotated List :\n",
            "[5, 6, 7, 8, 9, 10, 1, 2, 3, 4]\n"
          ]
        }
      ]
    },
    {
      "cell_type": "markdown",
      "metadata": {
        "id": "lJnrk0-y0XPf"
      },
      "source": [
        "# **3. Array Multiplication & Dividing by  'n'**"
      ]
    },
    {
      "cell_type": "code",
      "metadata": {
        "colab": {
          "base_uri": "https://localhost:8080/"
        },
        "id": "0-3JO-4i0Www",
        "outputId": "5635b775-c830-4c9b-e63d-61af584e1aad"
      },
      "source": [
        "def findRemainder(arr,lens,n):\n",
        "  mul = 1\n",
        "  \n",
        "  #find individual remainder & multiply wirh 'mul'\n",
        "  for i in arr:\n",
        "    mul *= (i%n)\n",
        "  return mul%n\n",
        "\n",
        "arr = [100,10,5,25,35,14]\n",
        "lens = len(arr)\n",
        "n = 11\n",
        "print(\"Remainder :\",findRemainder(arr,lens,n))"
      ],
      "execution_count": null,
      "outputs": [
        {
          "output_type": "stream",
          "name": "stdout",
          "text": [
            "Remainder : 9\n"
          ]
        }
      ]
    },
    {
      "cell_type": "markdown",
      "metadata": {
        "id": "7DmsMSoPBnm5"
      },
      "source": [
        "# **4. Split & add first part of array to the end**"
      ]
    },
    {
      "cell_type": "code",
      "metadata": {
        "colab": {
          "base_uri": "https://localhost:8080/"
        },
        "id": "ZkuJoTGyARrG",
        "outputId": "bc097b3d-dc35-44ee-fa33-b8de3915a98d"
      },
      "source": [
        "def rotation(arr,n,d):\n",
        "  arr[:] = arr[d:n] + arr[0:d]\n",
        "  return arr\n",
        "arr = [1,2,3,4,5,6,7,8,9,10]\n",
        "n = len(arr)\n",
        "d = 4\n",
        "print(\"Rotated Array :\",rotation(arr,n,d))"
      ],
      "execution_count": null,
      "outputs": [
        {
          "output_type": "stream",
          "name": "stdout",
          "text": [
            "Rotated Array : [5, 6, 7, 8, 9, 10, 1, 2, 3, 4]\n"
          ]
        }
      ]
    }
  ]
}